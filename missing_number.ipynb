{
 "cells": [
  {
   "cell_type": "code",
   "execution_count": 1,
   "id": "7c3416cf",
   "metadata": {},
   "outputs": [],
   "source": [
    "def find_missing_number(arr):\n",
    "  n = len(arr) + 1\n",
    "  xor_all = 0\n",
    "  xor_arr = 0\n",
    "\n",
    "  # Calculate XOR of all numbers from 1 to n\n",
    "  for i in range(1, n+1):\n",
    "    xor_all ^= i\n",
    "\n",
    "  # Calculate XOR of all numbers in the array\n",
    "  for num in arr:\n",
    "    xor_arr ^= num\n",
    "\n",
    "  # Find the missing number by XORing the results\n",
    "  missing_number = xor_all ^ xor_arr\n",
    "\n",
    "  return missing_number\n",
    "\n"
   ]
  },
  {
   "cell_type": "code",
   "execution_count": 3,
   "id": "b76714e9",
   "metadata": {},
   "outputs": [
    {
     "name": "stdout",
     "output_type": "stream",
     "text": [
      "Missing number: 3\n"
     ]
    }
   ],
   "source": [
    "# 1\n",
    "arr = [1, 2, 4, 5]\n",
    "missing_num = find_missing_number(arr)\n",
    "print(\"Missing number:\", missing_num)"
   ]
  },
  {
   "cell_type": "code",
   "execution_count": 4,
   "id": "3ee390f4",
   "metadata": {},
   "outputs": [
    {
     "name": "stdout",
     "output_type": "stream",
     "text": [
      "Missing number: 1\n"
     ]
    }
   ],
   "source": [
    "#2\n",
    "arr =  [2, 3, 4, 5]\n",
    "missing_num = find_missing_number(arr)\n",
    "print(\"Missing number:\", missing_num)"
   ]
  },
  {
   "cell_type": "code",
   "execution_count": 8,
   "id": "0614287e",
   "metadata": {},
   "outputs": [
    {
     "name": "stdout",
     "output_type": "stream",
     "text": [
      "Missing number: 5\n"
     ]
    }
   ],
   "source": [
    "#3\n",
    "arr =  [1, 2, 3, 4]\n",
    "missing_num = find_missing_number(arr)\n",
    "print(\"Missing number:\", missing_num)"
   ]
  },
  {
   "cell_type": "code",
   "execution_count": 9,
   "id": "22fac667",
   "metadata": {},
   "outputs": [
    {
     "name": "stdout",
     "output_type": "stream",
     "text": [
      "Missing number: 2\n"
     ]
    }
   ],
   "source": [
    "#4\n",
    "arr =  [1]\n",
    "missing_num = find_missing_number(arr)\n",
    "print(\"Missing number:\", missing_num)"
   ]
  },
  {
   "cell_type": "code",
   "execution_count": 13,
   "id": "d8195041",
   "metadata": {},
   "outputs": [
    {
     "name": "stdout",
     "output_type": "stream",
     "text": [
      "Missing number: 1000000\n"
     ]
    }
   ],
   "source": [
    "#5\n",
    "a = 1000000  \n",
    "arr = list(range(1, a))\n",
    "missing_num = find_missing_number(arr)\n",
    "print(\"Missing number:\", missing_num)"
   ]
  },
  {
   "cell_type": "code",
   "execution_count": null,
   "id": "190dff26",
   "metadata": {},
   "outputs": [],
   "source": []
  }
 ],
 "metadata": {
  "kernelspec": {
   "display_name": "Python 3 (ipykernel)",
   "language": "python",
   "name": "python3"
  },
  "language_info": {
   "codemirror_mode": {
    "name": "ipython",
    "version": 3
   },
   "file_extension": ".py",
   "mimetype": "text/x-python",
   "name": "python",
   "nbconvert_exporter": "python",
   "pygments_lexer": "ipython3",
   "version": "3.11.5"
  }
 },
 "nbformat": 4,
 "nbformat_minor": 5
}
