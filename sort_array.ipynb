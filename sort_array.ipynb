{
 "cells": [
  {
   "cell_type": "code",
   "execution_count": 7,
   "id": "27dbe19d",
   "metadata": {},
   "outputs": [
    {
     "name": "stdout",
     "output_type": "stream",
     "text": [
      "[0, 0, 0, 1, 1, 1, 2, 2]\n"
     ]
    }
   ],
   "source": [
    "def sort_num(arr):\n",
    "    a = 0\n",
    "    b = 0\n",
    "    c = len(arr) - 1\n",
    "    \n",
    "    while b <= c:\n",
    "        if arr[b] == 0:\n",
    "            arr[a], arr[b] = arr[b], arr[a]\n",
    "            a += 1\n",
    "            b += 1\n",
    "        elif arr[b] == 1:\n",
    "            b += 1\n",
    "        else: \n",
    "            arr[c], arr[b] = arr[b], arr[c]\n",
    "            c -= 1\n",
    "    \n",
    "    return arr\n",
    "\n",
    "arr = [0, 1, 2, 1, 0, 2, 1, 0]\n",
    "sort_arr = sort_num(arr)\n",
    "print(sort_arr)"
   ]
  },
  {
   "cell_type": "code",
   "execution_count": null,
   "id": "24537908",
   "metadata": {},
   "outputs": [],
   "source": []
  }
 ],
 "metadata": {
  "kernelspec": {
   "display_name": "Python 3 (ipykernel)",
   "language": "python",
   "name": "python3"
  },
  "language_info": {
   "codemirror_mode": {
    "name": "ipython",
    "version": 3
   },
   "file_extension": ".py",
   "mimetype": "text/x-python",
   "name": "python",
   "nbconvert_exporter": "python",
   "pygments_lexer": "ipython3",
   "version": "3.11.5"
  }
 },
 "nbformat": 4,
 "nbformat_minor": 5
}
